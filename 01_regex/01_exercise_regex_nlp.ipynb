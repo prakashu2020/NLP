{
 "cells": [
  {
   "cell_type": "markdown",
   "metadata": {},
   "source": [
    "# Python NLP Regular Expression (regex) Exercise\n",
    "\n",
    "This notebook demonstrates how to extract structured patterns from unstructured text using **Python's `re` module**. We'll cover three real-world examples:\n",
    "\n",
    "1. Extract Instagram handles from URLs.\n",
    "2. Extract types of risk from labeled text.\n",
    "3. Extract financial reporting periods (quarterly/semi-annual) from financial data."
   ]
  },
  {
   "cell_type": "code",
   "execution_count": 1,
   "metadata": {},
   "outputs": [],
   "source": [
    "import re"
   ]
  },
  {
   "cell_type": "markdown",
   "metadata": {},
   "source": [
    "## 1. Extract Instagram Handles\n",
    "\n",
    "We want to extract Instagram handles from a given block of text. An Instagram handle appears after `https://instagram.com/` and contains only alphanumeric characters and underscores."
   ]
  },
  {
   "cell_type": "code",
   "execution_count": 2,
   "metadata": {},
   "outputs": [
    {
     "name": "stdout",
     "output_type": "stream",
     "text": [
      "['design_with_mia', 'creative_genius', 'daily', 'user123_test']\n"
     ]
    }
   ],
   "source": [
    "text = '''\n",
    "Check out our design influencer at https://instagram.com/design_with_mia,\n",
    "and our product updates at https://www.producthunt.com/. Also, here are other\n",
    "key Instagram accounts:\n",
    "https://instagram.com/creative_genius\n",
    "https://instagram.com/daily.design\n",
    "https://instagram.com/user123_test\n",
    "'''\n",
    "\n",
    "# Extract handles\n",
    "pattern = r'https:.*instagram.com/([a-zA-Z0-9_]+)'\n",
    "handles = re.findall(pattern, text)\n",
    "print(handles)"
   ]
  },
  {
   "cell_type": "markdown",
   "metadata": {},
   "source": [
    "## 2. Extract Risk Types\n",
    "\n",
    "We want to extract different types of risk from text labeled with `Type of Risk:`. This helps us identify and categorize potential risks mentioned in documents."
   ]
  },
  {
   "cell_type": "code",
   "execution_count": 3,
   "metadata": {},
   "outputs": [
    {
     "name": "stdout",
     "output_type": "stream",
     "text": [
      "['Operational Risk', 'Liquidity Risk', 'Regulatory Risk']\n"
     ]
    }
   ],
   "source": [
    "text = '''\n",
    "Type of Risk: Operational Risk\n",
    "Our infrastructure depends on multiple cloud vendors...\n",
    "\n",
    "Type of Risk: Liquidity Risk\n",
    "We may face challenges in converting assets into cash...\n",
    "\n",
    "Type of Risk: Regulatory Risk\n",
    "Changes in compliance requirements can affect operations...\n",
    "'''\n",
    "\n",
    "# Extract risk types\n",
    "pattern = r'Type of Risk: (.*)'\n",
    "risks = re.findall(pattern, text)\n",
    "print(risks)"
   ]
  },
  {
   "cell_type": "markdown",
   "metadata": {},
   "source": [
    "## 3. Extract Financial Reporting Periods\n",
    "\n",
    "This example shows how to extract fiscal year periods like Q1–Q4 and S1–S2 using a regex pattern that supports non-capturing groups."
   ]
  },
  {
   "cell_type": "code",
   "execution_count": 4,
   "metadata": {},
   "outputs": [
    {
     "name": "stdout",
     "output_type": "stream",
     "text": [
      "['2022 Q3', '2023 S1', '2021 Q4']\n"
     ]
    }
   ],
   "source": [
    "text = '''\n",
    "Apple's total revenue in FY2022 Q3 was $90 billion.\n",
    "Samsung reported earnings in FY2023 S1 amounting to $120 billion.\n",
    "Google saw an increase in ad revenue in FY2021 Q4.\n",
    "'''\n",
    "\n",
    "# Extract FY periods\n",
    "pattern = r'FY(\\d{4} (?:Q[1-4]|S[1-2]))'\n",
    "periods = re.findall(pattern, text)\n",
    "print(periods)"
   ]
  },
  {
   "cell_type": "markdown",
   "metadata": {},
   "source": [
    "## Summary\n",
    "\n",
    "- We extracted Instagram handles by capturing text that follows `https://instagram.com/` using a pattern that allows alphanumeric characters and underscores.\n",
    "\n",
    "- We used regex to extract risk types that appear after the label `Type of Risk:`.\n",
    "\n",
    "- We extracted quarterly and semi-annual fiscal periods using a regex with non-capturing groups to support multiple formats like Q1–Q4 and S1–S2.\n",
    "\n",
    "These examples (exercises) demonstrate how regular expressions can be used to clean and extract structured information from raw text."
   ]
  }
 ],
 "metadata": {
  "kernelspec": {
   "display_name": "Python 3",
   "language": "python",
   "name": "python3"
  },
  "language_info": {
   "codemirror_mode": {
    "name": "ipython",
    "version": 3
   },
   "file_extension": ".py",
   "mimetype": "text/x-python",
   "name": "python",
   "nbconvert_exporter": "python",
   "pygments_lexer": "ipython3",
   "version": "3.13.0"
  }
 },
 "nbformat": 4,
 "nbformat_minor": 5
}
